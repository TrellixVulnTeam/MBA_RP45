{
 "cells": [
  {
   "cell_type": "code",
   "execution_count": 1,
   "id": "c008e22a-567b-4903-bbcc-40b16e8d10e1",
   "metadata": {},
   "outputs": [],
   "source": [
    "import zipfile\n",
    "import requests\n",
    "from io import BytesIO\n",
    "import os"
   ]
  },
  {
   "cell_type": "code",
   "execution_count": 2,
   "id": "cf3ebb7b-8077-4e81-b3dc-c6ce667cff69",
   "metadata": {},
   "outputs": [],
   "source": [
    "os.makedirs('./enem2020', exist_ok=True)"
   ]
  },
  {
   "cell_type": "code",
   "execution_count": 3,
   "id": "3f368476-19fc-49ea-91a4-140dc10aa8c0",
   "metadata": {},
   "outputs": [],
   "source": [
    "url = 'https://download.inep.gov.br/microdados/microdados_enem_2020.zip'\n",
    "\n",
    "filebytes = BytesIO(\n",
    "    requests.get(url).content\n",
    ")\n",
    "\n",
    "myzip = zipfile.ZipFile(filebytes)\n",
    "myzip.extractall(\"./enem2020/\")"
   ]
  },
  {
   "cell_type": "code",
   "execution_count": 4,
   "id": "2b1dd275-65da-45ea-9b49-9e0056c90c00",
   "metadata": {},
   "outputs": [],
   "source": [
    "import pandas as pd\n",
    "\n",
    "enem = pd.read_csv(\n",
    "    \"./enem2020/DADOS/MICRODADOS_ENEM_2020.csv\",\n",
    "    encoding=\"windows_1258\",\n",
    "    sep = ';'\n",
    ")"
   ]
  },
  {
   "cell_type": "code",
   "execution_count": 5,
   "id": "fd908b2e-1f32-4479-bba3-a6dbf2447e09",
   "metadata": {},
   "outputs": [
    {
     "data": {
      "text/html": [
       "<div>\n",
       "<style scoped>\n",
       "    .dataframe tbody tr th:only-of-type {\n",
       "        vertical-align: middle;\n",
       "    }\n",
       "\n",
       "    .dataframe tbody tr th {\n",
       "        vertical-align: top;\n",
       "    }\n",
       "\n",
       "    .dataframe thead th {\n",
       "        text-align: right;\n",
       "    }\n",
       "</style>\n",
       "<table border=\"1\" class=\"dataframe\">\n",
       "  <thead>\n",
       "    <tr style=\"text-align: right;\">\n",
       "      <th></th>\n",
       "      <th>NU_INSCRICAO</th>\n",
       "      <th>NU_ANO</th>\n",
       "      <th>TP_FAIXA_ETARIA</th>\n",
       "      <th>TP_SEXO</th>\n",
       "      <th>TP_ESTADO_CIVIL</th>\n",
       "      <th>TP_COR_RACA</th>\n",
       "      <th>TP_NACIONALIDADE</th>\n",
       "      <th>TP_ST_CONCLUSAO</th>\n",
       "      <th>TP_ANO_CONCLUIU</th>\n",
       "      <th>TP_ESCOLA</th>\n",
       "      <th>TP_ENSINO</th>\n",
       "      <th>IN_TREINEIRO</th>\n",
       "      <th>CO_MUNICIPIO_ESC</th>\n",
       "      <th>NO_MUNICIPIO_ESC</th>\n",
       "      <th>CO_UF_ESC</th>\n",
       "      <th>SG_UF_ESC</th>\n",
       "      <th>TP_DEPENDENCIA_ADM_ESC</th>\n",
       "      <th>TP_LOCALIZACAO_ESC</th>\n",
       "      <th>TP_SIT_FUNC_ESC</th>\n",
       "      <th>CO_MUNICIPIO_PROVA</th>\n",
       "      <th>NO_MUNICIPIO_PROVA</th>\n",
       "      <th>CO_UF_PROVA</th>\n",
       "      <th>SG_UF_PROVA</th>\n",
       "      <th>TP_PRESENCA_CN</th>\n",
       "      <th>TP_PRESENCA_CH</th>\n",
       "      <th>TP_PRESENCA_LC</th>\n",
       "      <th>TP_PRESENCA_MT</th>\n",
       "      <th>CO_PROVA_CN</th>\n",
       "      <th>CO_PROVA_CH</th>\n",
       "      <th>CO_PROVA_LC</th>\n",
       "      <th>CO_PROVA_MT</th>\n",
       "      <th>NU_NOTA_CN</th>\n",
       "      <th>NU_NOTA_CH</th>\n",
       "      <th>NU_NOTA_LC</th>\n",
       "      <th>NU_NOTA_MT</th>\n",
       "      <th>TX_RESPOSTAS_CN</th>\n",
       "      <th>TX_RESPOSTAS_CH</th>\n",
       "      <th>TX_RESPOSTAS_LC</th>\n",
       "      <th>TX_RESPOSTAS_MT</th>\n",
       "      <th>TP_LINGUA</th>\n",
       "      <th>TX_GABARITO_CN</th>\n",
       "      <th>TX_GABARITO_CH</th>\n",
       "      <th>TX_GABARITO_LC</th>\n",
       "      <th>TX_GABARITO_MT</th>\n",
       "      <th>TP_STATUS_REDACAO</th>\n",
       "      <th>NU_NOTA_COMP1</th>\n",
       "      <th>NU_NOTA_COMP2</th>\n",
       "      <th>NU_NOTA_COMP3</th>\n",
       "      <th>NU_NOTA_COMP4</th>\n",
       "      <th>NU_NOTA_COMP5</th>\n",
       "      <th>NU_NOTA_REDACAO</th>\n",
       "      <th>Q001</th>\n",
       "      <th>Q002</th>\n",
       "      <th>Q003</th>\n",
       "      <th>Q004</th>\n",
       "      <th>Q005</th>\n",
       "      <th>Q006</th>\n",
       "      <th>Q007</th>\n",
       "      <th>Q008</th>\n",
       "      <th>Q009</th>\n",
       "      <th>Q010</th>\n",
       "      <th>Q011</th>\n",
       "      <th>Q012</th>\n",
       "      <th>Q013</th>\n",
       "      <th>Q014</th>\n",
       "      <th>Q015</th>\n",
       "      <th>Q016</th>\n",
       "      <th>Q017</th>\n",
       "      <th>Q018</th>\n",
       "      <th>Q019</th>\n",
       "      <th>Q020</th>\n",
       "      <th>Q021</th>\n",
       "      <th>Q022</th>\n",
       "      <th>Q023</th>\n",
       "      <th>Q024</th>\n",
       "      <th>Q025</th>\n",
       "    </tr>\n",
       "  </thead>\n",
       "  <tbody>\n",
       "    <tr>\n",
       "      <th>0</th>\n",
       "      <td>200006271946</td>\n",
       "      <td>2020</td>\n",
       "      <td>11</td>\n",
       "      <td>F</td>\n",
       "      <td>1</td>\n",
       "      <td>2</td>\n",
       "      <td>1</td>\n",
       "      <td>1</td>\n",
       "      <td>11</td>\n",
       "      <td>1</td>\n",
       "      <td>NaN</td>\n",
       "      <td>0</td>\n",
       "      <td>NaN</td>\n",
       "      <td>NaN</td>\n",
       "      <td>NaN</td>\n",
       "      <td>NaN</td>\n",
       "      <td>NaN</td>\n",
       "      <td>NaN</td>\n",
       "      <td>NaN</td>\n",
       "      <td>1501402</td>\n",
       "      <td>Belém</td>\n",
       "      <td>15</td>\n",
       "      <td>PA</td>\n",
       "      <td>0</td>\n",
       "      <td>0</td>\n",
       "      <td>0</td>\n",
       "      <td>0</td>\n",
       "      <td>NaN</td>\n",
       "      <td>NaN</td>\n",
       "      <td>NaN</td>\n",
       "      <td>NaN</td>\n",
       "      <td>NaN</td>\n",
       "      <td>NaN</td>\n",
       "      <td>NaN</td>\n",
       "      <td>NaN</td>\n",
       "      <td>NaN</td>\n",
       "      <td>NaN</td>\n",
       "      <td>NaN</td>\n",
       "      <td>NaN</td>\n",
       "      <td>1</td>\n",
       "      <td>NaN</td>\n",
       "      <td>NaN</td>\n",
       "      <td>NaN</td>\n",
       "      <td>NaN</td>\n",
       "      <td>NaN</td>\n",
       "      <td>NaN</td>\n",
       "      <td>NaN</td>\n",
       "      <td>NaN</td>\n",
       "      <td>NaN</td>\n",
       "      <td>NaN</td>\n",
       "      <td>NaN</td>\n",
       "      <td>NaN</td>\n",
       "      <td>NaN</td>\n",
       "      <td>NaN</td>\n",
       "      <td>NaN</td>\n",
       "      <td>NaN</td>\n",
       "      <td>NaN</td>\n",
       "      <td>NaN</td>\n",
       "      <td>NaN</td>\n",
       "      <td>NaN</td>\n",
       "      <td>NaN</td>\n",
       "      <td>NaN</td>\n",
       "      <td>NaN</td>\n",
       "      <td>NaN</td>\n",
       "      <td>NaN</td>\n",
       "      <td>NaN</td>\n",
       "      <td>NaN</td>\n",
       "      <td>NaN</td>\n",
       "      <td>NaN</td>\n",
       "      <td>NaN</td>\n",
       "      <td>NaN</td>\n",
       "      <td>NaN</td>\n",
       "      <td>NaN</td>\n",
       "      <td>NaN</td>\n",
       "      <td>NaN</td>\n",
       "      <td>NaN</td>\n",
       "    </tr>\n",
       "    <tr>\n",
       "      <th>1</th>\n",
       "      <td>200001195856</td>\n",
       "      <td>2020</td>\n",
       "      <td>11</td>\n",
       "      <td>M</td>\n",
       "      <td>2</td>\n",
       "      <td>3</td>\n",
       "      <td>1</td>\n",
       "      <td>1</td>\n",
       "      <td>11</td>\n",
       "      <td>1</td>\n",
       "      <td>NaN</td>\n",
       "      <td>0</td>\n",
       "      <td>NaN</td>\n",
       "      <td>NaN</td>\n",
       "      <td>NaN</td>\n",
       "      <td>NaN</td>\n",
       "      <td>NaN</td>\n",
       "      <td>NaN</td>\n",
       "      <td>NaN</td>\n",
       "      <td>2408102</td>\n",
       "      <td>Natal</td>\n",
       "      <td>24</td>\n",
       "      <td>RN</td>\n",
       "      <td>1</td>\n",
       "      <td>1</td>\n",
       "      <td>1</td>\n",
       "      <td>1</td>\n",
       "      <td>702.0</td>\n",
       "      <td>689.0</td>\n",
       "      <td>693.0</td>\n",
       "      <td>698.0</td>\n",
       "      <td>604.1</td>\n",
       "      <td>661.7</td>\n",
       "      <td>595.3</td>\n",
       "      <td>711.3</td>\n",
       "      <td>BCBDBDCCCDBDDBADEEACEEAECBECCDBCACDEBEECEBAAE</td>\n",
       "      <td>BCAECABCDCEBDBBBDAABABACBCDDDBDDBABDAADACACBC</td>\n",
       "      <td>99999CADDEDADBAABEAADAAAADCADAABDCCBEECAEECAAC...</td>\n",
       "      <td>EBEBDEDAECBADCADDABACAEDBEEEAEADCCBCEACDACEBB</td>\n",
       "      <td>1</td>\n",
       "      <td>ABBACBCCCDDDDBAEEBECEDACABDCBEDAECDABECCBBADE</td>\n",
       "      <td>BCEECDBCCDEBDBBBBEAAAEACBCDDDBDDBABDABDDBAABC</td>\n",
       "      <td>99999CBDDEDBDBACECABAAAEAECCDCABCBBBBEEDCECAAE...</td>\n",
       "      <td>BBEADECAECBBXCEBADBACAEDACEDADAADCBCCBBDABBEE</td>\n",
       "      <td>1.0</td>\n",
       "      <td>120.0</td>\n",
       "      <td>120.0</td>\n",
       "      <td>120.0</td>\n",
       "      <td>120.0</td>\n",
       "      <td>100.0</td>\n",
       "      <td>580.0</td>\n",
       "      <td>NaN</td>\n",
       "      <td>NaN</td>\n",
       "      <td>NaN</td>\n",
       "      <td>NaN</td>\n",
       "      <td>NaN</td>\n",
       "      <td>NaN</td>\n",
       "      <td>NaN</td>\n",
       "      <td>NaN</td>\n",
       "      <td>NaN</td>\n",
       "      <td>NaN</td>\n",
       "      <td>NaN</td>\n",
       "      <td>NaN</td>\n",
       "      <td>NaN</td>\n",
       "      <td>NaN</td>\n",
       "      <td>NaN</td>\n",
       "      <td>NaN</td>\n",
       "      <td>NaN</td>\n",
       "      <td>NaN</td>\n",
       "      <td>NaN</td>\n",
       "      <td>NaN</td>\n",
       "      <td>NaN</td>\n",
       "      <td>NaN</td>\n",
       "      <td>NaN</td>\n",
       "      <td>NaN</td>\n",
       "      <td>NaN</td>\n",
       "    </tr>\n",
       "    <tr>\n",
       "      <th>2</th>\n",
       "      <td>200001943954</td>\n",
       "      <td>2020</td>\n",
       "      <td>4</td>\n",
       "      <td>F</td>\n",
       "      <td>2</td>\n",
       "      <td>3</td>\n",
       "      <td>2</td>\n",
       "      <td>2</td>\n",
       "      <td>0</td>\n",
       "      <td>2</td>\n",
       "      <td>1.0</td>\n",
       "      <td>0</td>\n",
       "      <td>2927408.0</td>\n",
       "      <td>Salvador</td>\n",
       "      <td>29.0</td>\n",
       "      <td>BA</td>\n",
       "      <td>2.0</td>\n",
       "      <td>1.0</td>\n",
       "      <td>1.0</td>\n",
       "      <td>2927408</td>\n",
       "      <td>Salvador</td>\n",
       "      <td>29</td>\n",
       "      <td>BA</td>\n",
       "      <td>0</td>\n",
       "      <td>0</td>\n",
       "      <td>0</td>\n",
       "      <td>0</td>\n",
       "      <td>NaN</td>\n",
       "      <td>NaN</td>\n",
       "      <td>NaN</td>\n",
       "      <td>NaN</td>\n",
       "      <td>NaN</td>\n",
       "      <td>NaN</td>\n",
       "      <td>NaN</td>\n",
       "      <td>NaN</td>\n",
       "      <td>NaN</td>\n",
       "      <td>NaN</td>\n",
       "      <td>NaN</td>\n",
       "      <td>NaN</td>\n",
       "      <td>0</td>\n",
       "      <td>NaN</td>\n",
       "      <td>NaN</td>\n",
       "      <td>NaN</td>\n",
       "      <td>NaN</td>\n",
       "      <td>NaN</td>\n",
       "      <td>NaN</td>\n",
       "      <td>NaN</td>\n",
       "      <td>NaN</td>\n",
       "      <td>NaN</td>\n",
       "      <td>NaN</td>\n",
       "      <td>NaN</td>\n",
       "      <td>B</td>\n",
       "      <td>C</td>\n",
       "      <td>A</td>\n",
       "      <td>D</td>\n",
       "      <td>3.0</td>\n",
       "      <td>B</td>\n",
       "      <td>A</td>\n",
       "      <td>B</td>\n",
       "      <td>A</td>\n",
       "      <td>A</td>\n",
       "      <td>A</td>\n",
       "      <td>B</td>\n",
       "      <td>A</td>\n",
       "      <td>B</td>\n",
       "      <td>A</td>\n",
       "      <td>B</td>\n",
       "      <td>A</td>\n",
       "      <td>A</td>\n",
       "      <td>B</td>\n",
       "      <td>A</td>\n",
       "      <td>A</td>\n",
       "      <td>A</td>\n",
       "      <td>A</td>\n",
       "      <td>A</td>\n",
       "      <td>A</td>\n",
       "    </tr>\n",
       "    <tr>\n",
       "      <th>3</th>\n",
       "      <td>200001908998</td>\n",
       "      <td>2020</td>\n",
       "      <td>2</td>\n",
       "      <td>M</td>\n",
       "      <td>1</td>\n",
       "      <td>3</td>\n",
       "      <td>1</td>\n",
       "      <td>2</td>\n",
       "      <td>0</td>\n",
       "      <td>2</td>\n",
       "      <td>1.0</td>\n",
       "      <td>0</td>\n",
       "      <td>3547304.0</td>\n",
       "      <td>Santana de Parnaíba</td>\n",
       "      <td>35.0</td>\n",
       "      <td>SP</td>\n",
       "      <td>3.0</td>\n",
       "      <td>1.0</td>\n",
       "      <td>1.0</td>\n",
       "      <td>3547304</td>\n",
       "      <td>Santana de Parnaíba</td>\n",
       "      <td>35</td>\n",
       "      <td>SP</td>\n",
       "      <td>1</td>\n",
       "      <td>1</td>\n",
       "      <td>1</td>\n",
       "      <td>1</td>\n",
       "      <td>700.0</td>\n",
       "      <td>688.0</td>\n",
       "      <td>692.0</td>\n",
       "      <td>696.0</td>\n",
       "      <td>620.8</td>\n",
       "      <td>675.0</td>\n",
       "      <td>624.2</td>\n",
       "      <td>759.4</td>\n",
       "      <td>EBEDCCCDCBDBAECAECCECEACCBAABBBCEABCAAAEBEBAE</td>\n",
       "      <td>DABCCACCBCCDCADBDCBAAEBDDBAABDBAEBEBBABDABDBE</td>\n",
       "      <td>DCEAB99999AADAECCEBCDDDCBABDDABBCEEBAEDDDADEBE...</td>\n",
       "      <td>CBDBDCCDDEECBAABBBADEDEDBECDEBBADAEBAABBECBBA</td>\n",
       "      <td>0</td>\n",
       "      <td>BDECCACBEBDEAEDAECCBAEABCCEADDBBCADCBDDEBDBAC</td>\n",
       "      <td>DABCCAECBABECADBDCCABDBCDDAABDBAEBEBBDBDDBDBE</td>\n",
       "      <td>DCEAD99999AADACCCCBBDDCABAECAABBEECBAEDDBBEEBE...</td>\n",
       "      <td>EBDBXCCDAEECBAABABAEDDEDAECBCDCADEEBBABBACBCA</td>\n",
       "      <td>1.0</td>\n",
       "      <td>140.0</td>\n",
       "      <td>200.0</td>\n",
       "      <td>140.0</td>\n",
       "      <td>120.0</td>\n",
       "      <td>160.0</td>\n",
       "      <td>760.0</td>\n",
       "      <td>NaN</td>\n",
       "      <td>NaN</td>\n",
       "      <td>NaN</td>\n",
       "      <td>NaN</td>\n",
       "      <td>NaN</td>\n",
       "      <td>NaN</td>\n",
       "      <td>NaN</td>\n",
       "      <td>NaN</td>\n",
       "      <td>NaN</td>\n",
       "      <td>NaN</td>\n",
       "      <td>NaN</td>\n",
       "      <td>NaN</td>\n",
       "      <td>NaN</td>\n",
       "      <td>NaN</td>\n",
       "      <td>NaN</td>\n",
       "      <td>NaN</td>\n",
       "      <td>NaN</td>\n",
       "      <td>NaN</td>\n",
       "      <td>NaN</td>\n",
       "      <td>NaN</td>\n",
       "      <td>NaN</td>\n",
       "      <td>NaN</td>\n",
       "      <td>NaN</td>\n",
       "      <td>NaN</td>\n",
       "      <td>NaN</td>\n",
       "    </tr>\n",
       "    <tr>\n",
       "      <th>4</th>\n",
       "      <td>200001634757</td>\n",
       "      <td>2020</td>\n",
       "      <td>4</td>\n",
       "      <td>F</td>\n",
       "      <td>1</td>\n",
       "      <td>3</td>\n",
       "      <td>2</td>\n",
       "      <td>1</td>\n",
       "      <td>1</td>\n",
       "      <td>1</td>\n",
       "      <td>NaN</td>\n",
       "      <td>0</td>\n",
       "      <td>NaN</td>\n",
       "      <td>NaN</td>\n",
       "      <td>NaN</td>\n",
       "      <td>NaN</td>\n",
       "      <td>NaN</td>\n",
       "      <td>NaN</td>\n",
       "      <td>NaN</td>\n",
       "      <td>3121605</td>\n",
       "      <td>Diamantina</td>\n",
       "      <td>31</td>\n",
       "      <td>MG</td>\n",
       "      <td>0</td>\n",
       "      <td>0</td>\n",
       "      <td>0</td>\n",
       "      <td>0</td>\n",
       "      <td>NaN</td>\n",
       "      <td>NaN</td>\n",
       "      <td>NaN</td>\n",
       "      <td>NaN</td>\n",
       "      <td>NaN</td>\n",
       "      <td>NaN</td>\n",
       "      <td>NaN</td>\n",
       "      <td>NaN</td>\n",
       "      <td>NaN</td>\n",
       "      <td>NaN</td>\n",
       "      <td>NaN</td>\n",
       "      <td>NaN</td>\n",
       "      <td>1</td>\n",
       "      <td>NaN</td>\n",
       "      <td>NaN</td>\n",
       "      <td>NaN</td>\n",
       "      <td>NaN</td>\n",
       "      <td>NaN</td>\n",
       "      <td>NaN</td>\n",
       "      <td>NaN</td>\n",
       "      <td>NaN</td>\n",
       "      <td>NaN</td>\n",
       "      <td>NaN</td>\n",
       "      <td>NaN</td>\n",
       "      <td>B</td>\n",
       "      <td>G</td>\n",
       "      <td>B</td>\n",
       "      <td>B</td>\n",
       "      <td>3.0</td>\n",
       "      <td>B</td>\n",
       "      <td>A</td>\n",
       "      <td>B</td>\n",
       "      <td>D</td>\n",
       "      <td>A</td>\n",
       "      <td>A</td>\n",
       "      <td>B</td>\n",
       "      <td>A</td>\n",
       "      <td>B</td>\n",
       "      <td>A</td>\n",
       "      <td>A</td>\n",
       "      <td>A</td>\n",
       "      <td>A</td>\n",
       "      <td>B</td>\n",
       "      <td>A</td>\n",
       "      <td>B</td>\n",
       "      <td>B</td>\n",
       "      <td>A</td>\n",
       "      <td>A</td>\n",
       "      <td>B</td>\n",
       "    </tr>\n",
       "  </tbody>\n",
       "</table>\n",
       "</div>"
      ],
      "text/plain": [
       "   NU_INSCRICAO  NU_ANO  TP_FAIXA_ETARIA TP_SEXO  TP_ESTADO_CIVIL  \\\n",
       "0  200006271946    2020               11       F                1   \n",
       "1  200001195856    2020               11       M                2   \n",
       "2  200001943954    2020                4       F                2   \n",
       "3  200001908998    2020                2       M                1   \n",
       "4  200001634757    2020                4       F                1   \n",
       "\n",
       "   TP_COR_RACA  TP_NACIONALIDADE  TP_ST_CONCLUSAO  TP_ANO_CONCLUIU  TP_ESCOLA  \\\n",
       "0            2                 1                1               11          1   \n",
       "1            3                 1                1               11          1   \n",
       "2            3                 2                2                0          2   \n",
       "3            3                 1                2                0          2   \n",
       "4            3                 2                1                1          1   \n",
       "\n",
       "   TP_ENSINO  IN_TREINEIRO  CO_MUNICIPIO_ESC     NO_MUNICIPIO_ESC  CO_UF_ESC  \\\n",
       "0        NaN             0               NaN                  NaN        NaN   \n",
       "1        NaN             0               NaN                  NaN        NaN   \n",
       "2        1.0             0         2927408.0             Salvador       29.0   \n",
       "3        1.0             0         3547304.0  Santana de Parnaíba       35.0   \n",
       "4        NaN             0               NaN                  NaN        NaN   \n",
       "\n",
       "  SG_UF_ESC  TP_DEPENDENCIA_ADM_ESC  TP_LOCALIZACAO_ESC  TP_SIT_FUNC_ESC  \\\n",
       "0       NaN                     NaN                 NaN              NaN   \n",
       "1       NaN                     NaN                 NaN              NaN   \n",
       "2        BA                     2.0                 1.0              1.0   \n",
       "3        SP                     3.0                 1.0              1.0   \n",
       "4       NaN                     NaN                 NaN              NaN   \n",
       "\n",
       "   CO_MUNICIPIO_PROVA   NO_MUNICIPIO_PROVA  CO_UF_PROVA SG_UF_PROVA  \\\n",
       "0             1501402                Belém           15          PA   \n",
       "1             2408102                Natal           24          RN   \n",
       "2             2927408             Salvador           29          BA   \n",
       "3             3547304  Santana de Parnaíba           35          SP   \n",
       "4             3121605           Diamantina           31          MG   \n",
       "\n",
       "   TP_PRESENCA_CN  TP_PRESENCA_CH  TP_PRESENCA_LC  TP_PRESENCA_MT  \\\n",
       "0               0               0               0               0   \n",
       "1               1               1               1               1   \n",
       "2               0               0               0               0   \n",
       "3               1               1               1               1   \n",
       "4               0               0               0               0   \n",
       "\n",
       "   CO_PROVA_CN  CO_PROVA_CH  CO_PROVA_LC  CO_PROVA_MT  NU_NOTA_CN  NU_NOTA_CH  \\\n",
       "0          NaN          NaN          NaN          NaN         NaN         NaN   \n",
       "1        702.0        689.0        693.0        698.0       604.1       661.7   \n",
       "2          NaN          NaN          NaN          NaN         NaN         NaN   \n",
       "3        700.0        688.0        692.0        696.0       620.8       675.0   \n",
       "4          NaN          NaN          NaN          NaN         NaN         NaN   \n",
       "\n",
       "   NU_NOTA_LC  NU_NOTA_MT                                TX_RESPOSTAS_CN  \\\n",
       "0         NaN         NaN                                            NaN   \n",
       "1       595.3       711.3  BCBDBDCCCDBDDBADEEACEEAECBECCDBCACDEBEECEBAAE   \n",
       "2         NaN         NaN                                            NaN   \n",
       "3       624.2       759.4  EBEDCCCDCBDBAECAECCECEACCBAABBBCEABCAAAEBEBAE   \n",
       "4         NaN         NaN                                            NaN   \n",
       "\n",
       "                                 TX_RESPOSTAS_CH  \\\n",
       "0                                            NaN   \n",
       "1  BCAECABCDCEBDBBBDAABABACBCDDDBDDBABDAADACACBC   \n",
       "2                                            NaN   \n",
       "3  DABCCACCBCCDCADBDCBAAEBDDBAABDBAEBEBBABDABDBE   \n",
       "4                                            NaN   \n",
       "\n",
       "                                     TX_RESPOSTAS_LC  \\\n",
       "0                                                NaN   \n",
       "1  99999CADDEDADBAABEAADAAAADCADAABDCCBEECAEECAAC...   \n",
       "2                                                NaN   \n",
       "3  DCEAB99999AADAECCEBCDDDCBABDDABBCEEBAEDDDADEBE...   \n",
       "4                                                NaN   \n",
       "\n",
       "                                 TX_RESPOSTAS_MT  TP_LINGUA  \\\n",
       "0                                            NaN          1   \n",
       "1  EBEBDEDAECBADCADDABACAEDBEEEAEADCCBCEACDACEBB          1   \n",
       "2                                            NaN          0   \n",
       "3  CBDBDCCDDEECBAABBBADEDEDBECDEBBADAEBAABBECBBA          0   \n",
       "4                                            NaN          1   \n",
       "\n",
       "                                  TX_GABARITO_CN  \\\n",
       "0                                            NaN   \n",
       "1  ABBACBCCCDDDDBAEEBECEDACABDCBEDAECDABECCBBADE   \n",
       "2                                            NaN   \n",
       "3  BDECCACBEBDEAEDAECCBAEABCCEADDBBCADCBDDEBDBAC   \n",
       "4                                            NaN   \n",
       "\n",
       "                                  TX_GABARITO_CH  \\\n",
       "0                                            NaN   \n",
       "1  BCEECDBCCDEBDBBBBEAAAEACBCDDDBDDBABDABDDBAABC   \n",
       "2                                            NaN   \n",
       "3  DABCCAECBABECADBDCCABDBCDDAABDBAEBEBBDBDDBDBE   \n",
       "4                                            NaN   \n",
       "\n",
       "                                      TX_GABARITO_LC  \\\n",
       "0                                                NaN   \n",
       "1  99999CBDDEDBDBACECABAAAEAECCDCABCBBBBEEDCECAAE...   \n",
       "2                                                NaN   \n",
       "3  DCEAD99999AADACCCCBBDDCABAECAABBEECBAEDDBBEEBE...   \n",
       "4                                                NaN   \n",
       "\n",
       "                                  TX_GABARITO_MT  TP_STATUS_REDACAO  \\\n",
       "0                                            NaN                NaN   \n",
       "1  BBEADECAECBBXCEBADBACAEDACEDADAADCBCCBBDABBEE                1.0   \n",
       "2                                            NaN                NaN   \n",
       "3  EBDBXCCDAEECBAABABAEDDEDAECBCDCADEEBBABBACBCA                1.0   \n",
       "4                                            NaN                NaN   \n",
       "\n",
       "   NU_NOTA_COMP1  NU_NOTA_COMP2  NU_NOTA_COMP3  NU_NOTA_COMP4  NU_NOTA_COMP5  \\\n",
       "0            NaN            NaN            NaN            NaN            NaN   \n",
       "1          120.0          120.0          120.0          120.0          100.0   \n",
       "2            NaN            NaN            NaN            NaN            NaN   \n",
       "3          140.0          200.0          140.0          120.0          160.0   \n",
       "4            NaN            NaN            NaN            NaN            NaN   \n",
       "\n",
       "   NU_NOTA_REDACAO Q001 Q002 Q003 Q004  Q005 Q006 Q007 Q008 Q009 Q010 Q011  \\\n",
       "0              NaN  NaN  NaN  NaN  NaN   NaN  NaN  NaN  NaN  NaN  NaN  NaN   \n",
       "1            580.0  NaN  NaN  NaN  NaN   NaN  NaN  NaN  NaN  NaN  NaN  NaN   \n",
       "2              NaN    B    C    A    D   3.0    B    A    B    A    A    A   \n",
       "3            760.0  NaN  NaN  NaN  NaN   NaN  NaN  NaN  NaN  NaN  NaN  NaN   \n",
       "4              NaN    B    G    B    B   3.0    B    A    B    D    A    A   \n",
       "\n",
       "  Q012 Q013 Q014 Q015 Q016 Q017 Q018 Q019 Q020 Q021 Q022 Q023 Q024 Q025  \n",
       "0  NaN  NaN  NaN  NaN  NaN  NaN  NaN  NaN  NaN  NaN  NaN  NaN  NaN  NaN  \n",
       "1  NaN  NaN  NaN  NaN  NaN  NaN  NaN  NaN  NaN  NaN  NaN  NaN  NaN  NaN  \n",
       "2    B    A    B    A    B    A    A    B    A    A    A    A    A    A  \n",
       "3  NaN  NaN  NaN  NaN  NaN  NaN  NaN  NaN  NaN  NaN  NaN  NaN  NaN  NaN  \n",
       "4    B    A    B    A    A    A    A    B    A    B    B    A    A    B  "
      ]
     },
     "execution_count": 5,
     "metadata": {},
     "output_type": "execute_result"
    }
   ],
   "source": [
    "pd.set_option('display.max_columns', None)\n",
    "\n",
    "enem.head()"
   ]
  },
  {
   "cell_type": "code",
   "execution_count": 6,
   "id": "7a74faa1-1440-440f-b88f-2bb27bc52753",
   "metadata": {},
   "outputs": [],
   "source": [
    "df_esc_mg = enem.loc[enem[\"SG_UF_ESC\"] == \"MG\"]"
   ]
  },
  {
   "cell_type": "markdown",
   "id": "9e8334ae-e636-451b-900a-2a74edf69154",
   "metadata": {
    "tags": []
   },
   "source": [
    "##### 1 - Qual é a média da nota em matemática dos alunos que estudaram numa escola em Minas Gerais?"
   ]
  },
  {
   "cell_type": "code",
   "execution_count": 7,
   "id": "1933bfa9-4c64-4620-91ff-511f7392e3bd",
   "metadata": {},
   "outputs": [
    {
     "data": {
      "text/plain": [
       "579.6812230047454"
      ]
     },
     "execution_count": 7,
     "metadata": {},
     "output_type": "execute_result"
    }
   ],
   "source": [
    "df_esc_mg['NU_NOTA_MT'].mean()"
   ]
  },
  {
   "cell_type": "markdown",
   "id": "89ca0ea0-9bd0-45ce-859a-38c76f102367",
   "metadata": {},
   "source": [
    "##### 2- Qual é a média da nota em Linguagens e Códigos dos alunos que estudaram numa escola em Minas Gerais?"
   ]
  },
  {
   "cell_type": "code",
   "execution_count": 8,
   "id": "8232790c-d368-43de-b821-dbe19bb0aefe",
   "metadata": {},
   "outputs": [
    {
     "data": {
      "text/plain": [
       "553.0102913021044"
      ]
     },
     "execution_count": 8,
     "metadata": {},
     "output_type": "execute_result"
    }
   ],
   "source": [
    "df_esc_mg['NU_NOTA_LC'].mean()"
   ]
  },
  {
   "cell_type": "markdown",
   "id": "a44a6ba6-7ce5-41cb-a0ee-0583e9360818",
   "metadata": {},
   "source": [
    "##### 3 - Qual é a média da nota em Ciências Humanas dos alunos do sexo FEMININO que estudaram numa escola em Minas Gerais?"
   ]
  },
  {
   "cell_type": "code",
   "execution_count": 9,
   "id": "a6666ee8-87ce-460c-8dc2-f882f0777b62",
   "metadata": {},
   "outputs": [
    {
     "data": {
      "text/plain": [
       "541.30846117234"
      ]
     },
     "execution_count": 9,
     "metadata": {},
     "output_type": "execute_result"
    }
   ],
   "source": [
    "df_esc_mg.loc[df_esc_mg['TP_SEXO'] == 'F','NU_NOTA_CH'].mean()"
   ]
  },
  {
   "cell_type": "markdown",
   "id": "02301f16-f9ce-4f6c-94a4-f5e82f8ae9e6",
   "metadata": {},
   "source": [
    "##### 4 - Qual é a média da nota em Ciências Humanas dos alunos do sexo MASCULINO que estudaram numa escola em Minas Gerais?"
   ]
  },
  {
   "cell_type": "code",
   "execution_count": 10,
   "id": "ca7c3f02-d278-4a29-a1f5-bdbecbc46cd5",
   "metadata": {},
   "outputs": [
    {
     "data": {
      "text/plain": [
       "559.5546844135107"
      ]
     },
     "execution_count": 10,
     "metadata": {},
     "output_type": "execute_result"
    }
   ],
   "source": [
    "df_esc_mg.loc[df_esc_mg['TP_SEXO'] == 'M','NU_NOTA_CH'] .mean()"
   ]
  },
  {
   "cell_type": "markdown",
   "id": "2a3388d1-ccd5-4bc8-a313-65fb41fb7a96",
   "metadata": {},
   "source": [
    "##### 5 - Qual é a média da nota em Matemática dos alunos do sexo FEMININO que estudaram numa escola na cidade de Montes Claros?"
   ]
  },
  {
   "cell_type": "code",
   "execution_count": 11,
   "id": "17322704-4481-4201-b907-9016e9285d13",
   "metadata": {},
   "outputs": [
    {
     "data": {
      "text/plain": [
       "562.9888361045129"
      ]
     },
     "execution_count": 11,
     "metadata": {},
     "output_type": "execute_result"
    }
   ],
   "source": [
    "df_esc_mg.loc[\n",
    "    (df_esc_mg['TP_SEXO'] == 'F') & (df_esc_mg['NO_MUNICIPIO_ESC'] == 'Montes Claros'),\n",
    "    'NU_NOTA_MT'\n",
    "    ].mean()"
   ]
  },
  {
   "cell_type": "markdown",
   "id": "e9cb8f38-c5ce-4b4a-a484-634b61aae5f7",
   "metadata": {},
   "source": [
    "##### 6 - Qual é a média da nota em Matemática dos alunos que estudaram numa escola no município de Sabará e que possuem TV por assinatura na residência?"
   ]
  },
  {
   "cell_type": "code",
   "execution_count": 12,
   "id": "046bad39-b535-494e-b6a2-d9d3b7a02dc7",
   "metadata": {},
   "outputs": [
    {
     "data": {
      "text/plain": [
       "580.102985074627"
      ]
     },
     "execution_count": 12,
     "metadata": {},
     "output_type": "execute_result"
    }
   ],
   "source": [
    "df_esc_mg.loc[\n",
    "    (df_esc_mg['Q021'] == 'B') & (df_esc_mg['NO_MUNICIPIO_ESC'] == 'Sabará'),\n",
    "    'NU_NOTA_MT'\n",
    "    ].mean()"
   ]
  },
  {
   "cell_type": "markdown",
   "id": "5ef4159c-7290-4437-906d-a9e2ba95156f",
   "metadata": {},
   "source": [
    "##### 7 - Qual é a média da nota em Ciências Humanas dos alunos que estudaram numa escola em Minas Gerais e que possuem dois fornos micro-ondas em casa?"
   ]
  },
  {
   "cell_type": "code",
   "execution_count": 13,
   "id": "edc65858-736e-4895-aa12-264159cc337d",
   "metadata": {},
   "outputs": [
    {
     "data": {
      "text/plain": [
       "601.4825757575752"
      ]
     },
     "execution_count": 13,
     "metadata": {},
     "output_type": "execute_result"
    }
   ],
   "source": [
    "df_esc_mg.loc[\n",
    "    (df_esc_mg['Q016'] == 'C'),\n",
    "    'NU_NOTA_CH'\n",
    "    ].mean()"
   ]
  },
  {
   "cell_type": "markdown",
   "id": "99fc0e50-ce06-43f9-a11e-f1e298600076",
   "metadata": {},
   "source": [
    "##### 8 - Qual é a nota média em Matemática dos alunos que estudaram numa escola em Minas Gerais e cuja mãe completou a pós-graduação?"
   ]
  },
  {
   "cell_type": "code",
   "execution_count": 14,
   "id": "8acc3072-6771-428a-9fdc-9d8f04efc09e",
   "metadata": {},
   "outputs": [
    {
     "data": {
      "text/plain": [
       "642.24518448662"
      ]
     },
     "execution_count": 14,
     "metadata": {},
     "output_type": "execute_result"
    }
   ],
   "source": [
    "df_esc_mg.loc[\n",
    "    (df_esc_mg['Q002'] == 'G'),\n",
    "    'NU_NOTA_MT'\n",
    "    ].mean()"
   ]
  },
  {
   "cell_type": "markdown",
   "id": "33a531fa-3277-4945-b0be-7ea4af4e643f",
   "metadata": {},
   "source": [
    "##### 9 - Qual é a nota média em Matemática dos alunos que estudaram numa escola em Belo Horizonte ou em Conselheiro Lafaiete?"
   ]
  },
  {
   "cell_type": "code",
   "execution_count": 15,
   "id": "491c0ef7-15d9-4770-b01a-bd980d1e19e3",
   "metadata": {},
   "outputs": [
    {
     "data": {
      "text/plain": [
       "621.0282524049466"
      ]
     },
     "execution_count": 15,
     "metadata": {},
     "output_type": "execute_result"
    }
   ],
   "source": [
    "df_esc_mg.loc[\n",
    "    (df_esc_mg['NO_MUNICIPIO_ESC'] == 'Belo Horizonte') | (df_esc_mg['NO_MUNICIPIO_ESC'] == 'Conselheiro Lafaiete'),\n",
    "    'NU_NOTA_MT'\n",
    "    ].mean()"
   ]
  },
  {
   "cell_type": "markdown",
   "id": "f00bc585-5846-472c-b347-ab0b7b73cb30",
   "metadata": {},
   "source": [
    "##### 10 - Qual é a nota média em Ciências Humanas dos alunos que estudaram numa escola em Minas Gerais e que moram sozinhos?"
   ]
  },
  {
   "cell_type": "code",
   "execution_count": 17,
   "id": "b2f42569-a3b0-4a0b-8acc-ca14b35e407f",
   "metadata": {},
   "outputs": [
    {
     "data": {
      "text/plain": [
       "537.0544303797469"
      ]
     },
     "execution_count": 17,
     "metadata": {},
     "output_type": "execute_result"
    }
   ],
   "source": [
    "df_esc_mg.loc[\n",
    "    (df_esc_mg['Q005'] == 1),\n",
    "    'NU_NOTA_CH'\n",
    "    ].mean()"
   ]
  },
  {
   "cell_type": "markdown",
   "id": "7e422cf4-2560-4c0a-ae15-15b2eb6a2f58",
   "metadata": {},
   "source": [
    "##### 11 - Qual é a nota média em Ciências Humanas dos alunos que estudaram numa escola em Minas Gerais, cujo pai completou pós-graduação e possuem renda familiar entre R$ 8.360,01 e R$ 9.405,00?"
   ]
  },
  {
   "cell_type": "code",
   "execution_count": 19,
   "id": "a26a104e-6a86-4de1-9603-3e61eafa3e5c",
   "metadata": {},
   "outputs": [
    {
     "data": {
      "text/plain": [
       "623.9422535211263"
      ]
     },
     "execution_count": 19,
     "metadata": {},
     "output_type": "execute_result"
    }
   ],
   "source": [
    "df_esc_mg.loc[\n",
    "    (df_esc_mg['Q001'] == 'G') & (df_esc_mg['Q006'] == 'L'),\n",
    "    'NU_NOTA_CH'\n",
    "    ].mean()"
   ]
  },
  {
   "cell_type": "markdown",
   "id": "58c2a0fa-8272-4772-87d2-5c0988ad7724",
   "metadata": {},
   "source": [
    "##### 12 - Qual é a nota média em Matemática dos alunos do sexo Feminino que estudaram numa escola em Lavras e escolheram “Espanhol” como língua estrangeira?"
   ]
  },
  {
   "cell_type": "code",
   "execution_count": 21,
   "id": "d3d10123-3ff6-4681-9894-5f85d5286141",
   "metadata": {},
   "outputs": [
    {
     "data": {
      "text/plain": [
       "513.3833333333336"
      ]
     },
     "execution_count": 21,
     "metadata": {},
     "output_type": "execute_result"
    }
   ],
   "source": [
    "df_esc_mg.loc[\n",
    "    (df_esc_mg['TP_SEXO'] == 'F') & (df_esc_mg['NO_MUNICIPIO_ESC'] == 'Lavras') & (df_esc_mg['TP_LINGUA'] == 1),\n",
    "    'NU_NOTA_MT'\n",
    "    ].mean()"
   ]
  },
  {
   "cell_type": "markdown",
   "id": "b4fab02e-36b0-4d94-b46e-67e3e5234e5d",
   "metadata": {},
   "source": [
    "##### 13 - Qual é a nota média em Matemática dos alunos do sexo Masculino que estudaram numa escola em Ouro Preto?"
   ]
  },
  {
   "cell_type": "code",
   "execution_count": 22,
   "id": "4c71e7ff-8bc4-498e-9229-8e806e4e158b",
   "metadata": {},
   "outputs": [
    {
     "data": {
      "text/plain": [
       "615.5823529411764"
      ]
     },
     "execution_count": 22,
     "metadata": {},
     "output_type": "execute_result"
    }
   ],
   "source": [
    "df_esc_mg.loc[\n",
    "    (df_esc_mg['TP_SEXO'] == 'M') & (df_esc_mg['NO_MUNICIPIO_ESC'] == 'Ouro Preto'),\n",
    "    'NU_NOTA_MT'\n",
    "    ].mean()"
   ]
  },
  {
   "cell_type": "markdown",
   "id": "46718476-6a43-450f-a497-e64404d9703a",
   "metadata": {},
   "source": [
    "##### 14 - Qual é a nota média em Ciências Humanas dos alunos que estudaram numa escola em Minas Gerais e possuem entre 26 e 30 anos?"
   ]
  },
  {
   "cell_type": "code",
   "execution_count": 24,
   "id": "1c01b007-d8b1-4164-bce3-195c23ae689c",
   "metadata": {},
   "outputs": [
    {
     "data": {
      "text/plain": [
       "473.47792207792213"
      ]
     },
     "execution_count": 24,
     "metadata": {},
     "output_type": "execute_result"
    }
   ],
   "source": [
    "df_esc_mg.loc[\n",
    "    df_esc_mg['TP_FAIXA_ETARIA'] == 11,\n",
    "    'NU_NOTA_CH'\n",
    "    ].mean()"
   ]
  },
  {
   "cell_type": "markdown",
   "id": "47e2f300-da4c-4894-8d36-fb3cad2de428",
   "metadata": {},
   "source": [
    "##### 15 - Qual é a nota média em Matemática dos alunos do sexo FEMININO, que estudaram numa escola em Belo Horizonte, Sabará, Nova Lima ou Betim e estudaram em uma escola privada?"
   ]
  },
  {
   "cell_type": "code",
   "execution_count": 26,
   "id": "9fd4249a-4e51-474f-b85d-e2011dc313a5",
   "metadata": {},
   "outputs": [
    {
     "data": {
      "text/plain": [
       "679.1369481765836"
      ]
     },
     "execution_count": 26,
     "metadata": {},
     "output_type": "execute_result"
    }
   ],
   "source": [
    "df_esc_mg.loc[\n",
    "    (df_esc_mg['TP_SEXO'] == 'F') & \n",
    "    (df_esc_mg['NO_MUNICIPIO_ESC'].isin(['Belo Horizonte', 'Sabará', 'Nova Lima', 'Betim'])) &\n",
    "    (df_esc_mg['TP_ESCOLA'] == 3),\n",
    "    'NU_NOTA_MT'\n",
    "    ].mean()"
   ]
  },
  {
   "cell_type": "code",
   "execution_count": null,
   "id": "74cf015b-242c-43f4-9bfe-ad82ba524eb8",
   "metadata": {},
   "outputs": [],
   "source": []
  }
 ],
 "metadata": {
  "kernelspec": {
   "display_name": "Python 3 (ipykernel)",
   "language": "python",
   "name": "python3"
  },
  "language_info": {
   "codemirror_mode": {
    "name": "ipython",
    "version": 3
   },
   "file_extension": ".py",
   "mimetype": "text/x-python",
   "name": "python",
   "nbconvert_exporter": "python",
   "pygments_lexer": "ipython3",
   "version": "3.9.7"
  }
 },
 "nbformat": 4,
 "nbformat_minor": 5
}
